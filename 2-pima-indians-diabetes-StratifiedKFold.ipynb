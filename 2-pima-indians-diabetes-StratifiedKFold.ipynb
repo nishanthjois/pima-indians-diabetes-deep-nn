{
 "cells": [
  {
   "cell_type": "markdown",
   "metadata": {},
   "source": [
    "In the example below we use the handy StratifiedKFold class 1 from the scikit-learn Python\n",
    "machine learning library to split up the training dataset into 10 folds. The folds are stratified,\n",
    "meaning that the algorithm attempts to balance the number of instances of each class in each\n",
    "fold. The example creates and evaluates 10 models using the 10 splits of the data and collects\n",
    "all of the scores."
   ]
  },
  {
   "cell_type": "code",
   "execution_count": 11,
   "metadata": {
    "collapsed": false
   },
   "outputs": [],
   "source": [
    "\n",
    "from keras.models import Sequential\n",
    "from keras.layers import Dense\n",
    "from sklearn.model_selection import StratifiedKFold\n",
    "import numpy"
   ]
  },
  {
   "cell_type": "code",
   "execution_count": 12,
   "metadata": {
    "collapsed": false
   },
   "outputs": [],
   "source": [
    "seed = 7\n",
    "numpy.random.seed(seed)\n",
    "dataset = numpy.loadtxt(\"pima-indians-diabetes.csv\", delimiter=\",\")"
   ]
  },
  {
   "cell_type": "code",
   "execution_count": 13,
   "metadata": {
    "collapsed": true
   },
   "outputs": [],
   "source": [
    "X=dataset[:,0:8] #input\n",
    "Y=dataset[:,8] #output"
   ]
  },
  {
   "cell_type": "code",
   "execution_count": 14,
   "metadata": {
    "collapsed": false
   },
   "outputs": [],
   "source": [
    "#10 fold cross validation\n",
    "kfold = StratifiedKFold(n_splits=10,shuffle=True,random_state=seed)"
   ]
  },
  {
   "cell_type": "code",
   "execution_count": 15,
   "metadata": {
    "collapsed": true
   },
   "outputs": [],
   "source": [
    "#to calulate accuracy\n",
    "cvscores=[]"
   ]
  },
  {
   "cell_type": "code",
   "execution_count": 16,
   "metadata": {
    "collapsed": false
   },
   "outputs": [
    {
     "name": "stdout",
     "output_type": "stream",
     "text": [
      "acc: 72.73%\n",
      "acc: 72.73%\n",
      "acc: 76.62%\n",
      "acc: 79.22%\n",
      "acc: 77.92%\n",
      "acc: 71.43%\n",
      "acc: 77.92%\n",
      "acc: 68.83%\n",
      "acc: 69.74%\n",
      "acc: 75.00%\n"
     ]
    }
   ],
   "source": [
    "#evaluates 10 models using the 10 splits of the data \n",
    "# and collects all of the scores.\n",
    "for train,test in kfold.split(X,Y):\n",
    "    #create model\n",
    "    model = Sequential()\n",
    "    model.add(Dense(12,input_dim=8,init='uniform',activation='relu')) #layer 1 - input\n",
    "    model.add(Dense(8,init='uniform',activation='relu')) #layer 2\n",
    "    model.add(Dense(1,init='uniform',activation='sigmoid')) #layer 3 - output\n",
    "    \n",
    "    #compile model\n",
    "    model.compile(loss='binary_crossentropy',optimizer='adam',metrics=['accuracy'])\n",
    "    \n",
    "    #fit model\n",
    "    model.fit(X[train],Y[train],nb_epoch=150,batch_size=10,verbose=0)\n",
    "    \n",
    "    #evaluate the score\n",
    "    scores = model.evaluate(X[test],Y[test],verbose=0)\n",
    "    print(\"%s: %.2f%%\" % (model.metrics_names[1], scores[1]*100))\n",
    "    cvscores.append(scores[1] * 100)\n",
    "    \n"
   ]
  },
  {
   "cell_type": "code",
   "execution_count": 17,
   "metadata": {
    "collapsed": false
   },
   "outputs": [
    {
     "name": "stdout",
     "output_type": "stream",
     "text": [
      "74.21% (+/- 3.47%)\n"
     ]
    }
   ],
   "source": [
    "print(\"%.2f%% (+/- %.2f%%)\" % (numpy.mean(cvscores), numpy.std(cvscores)))"
   ]
  },
  {
   "cell_type": "code",
   "execution_count": null,
   "metadata": {
    "collapsed": true
   },
   "outputs": [],
   "source": []
  },
  {
   "cell_type": "code",
   "execution_count": null,
   "metadata": {
    "collapsed": true
   },
   "outputs": [],
   "source": []
  },
  {
   "cell_type": "code",
   "execution_count": null,
   "metadata": {
    "collapsed": true
   },
   "outputs": [],
   "source": []
  },
  {
   "cell_type": "code",
   "execution_count": null,
   "metadata": {
    "collapsed": true
   },
   "outputs": [],
   "source": []
  },
  {
   "cell_type": "code",
   "execution_count": null,
   "metadata": {
    "collapsed": true
   },
   "outputs": [],
   "source": []
  },
  {
   "cell_type": "code",
   "execution_count": null,
   "metadata": {
    "collapsed": true
   },
   "outputs": [],
   "source": []
  }
 ],
 "metadata": {
  "anaconda-cloud": {},
  "kernelspec": {
   "display_name": "Python [conda env:tensorflow]",
   "language": "python",
   "name": "conda-env-tensorflow-py"
  },
  "language_info": {
   "codemirror_mode": {
    "name": "ipython",
    "version": 2
   },
   "file_extension": ".py",
   "mimetype": "text/x-python",
   "name": "python",
   "nbconvert_exporter": "python",
   "pygments_lexer": "ipython2",
   "version": "2.7.12"
  }
 },
 "nbformat": 4,
 "nbformat_minor": 1
}
